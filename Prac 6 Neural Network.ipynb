{
 "cells": [
  {
   "cell_type": "markdown",
   "metadata": {},
   "source": [
    "# Prac 6"
   ]
  },
  {
   "cell_type": "markdown",
   "metadata": {},
   "source": [
    "## Q1"
   ]
  },
  {
   "cell_type": "code",
   "execution_count": 4,
   "metadata": {},
   "outputs": [
    {
     "name": "stdout",
     "output_type": "stream",
     "text": [
      "Looking in links: https://download.pytorch.org/whl/torch_stable.html\n",
      "Collecting torchvision===0.5.0\n",
      "  Downloading torchvision-0.5.0-cp36-cp36m-win_amd64.whl (1.2 MB)\n",
      "Requirement already satisfied: pillow>=4.1.1 in c:\\users\\j.g\\anaconda2\\envs\\py3k\\lib\\site-packages (from torchvision===0.5.0) (7.0.0)\n",
      "Requirement already satisfied: numpy in c:\\users\\j.g\\anaconda2\\envs\\py3k\\lib\\site-packages (from torchvision===0.5.0) (1.18.1)\n",
      "Requirement already satisfied: torch==1.4.0 in c:\\users\\j.g\\anaconda2\\envs\\py3k\\lib\\site-packages (from torchvision===0.5.0) (1.4.0)\n",
      "Requirement already satisfied: six in c:\\users\\j.g\\anaconda2\\envs\\py3k\\lib\\site-packages (from torchvision===0.5.0) (1.14.0)\n",
      "Installing collected packages: torchvision\n",
      "Successfully installed torchvision-0.5.0\n"
     ]
    }
   ],
   "source": [
    "!pip install torchvision===0.5.0 -f https://download.pytorch.org/whl/torch_stable.html"
   ]
  },
  {
   "cell_type": "code",
   "execution_count": 5,
   "metadata": {},
   "outputs": [],
   "source": [
    "# -*- coding: utf-8 -*-\n",
    "import torch\n",
    "import torchvision\n",
    "\n",
    "# # N is batch size; D_in is input dimension;\n",
    "# # H is hidden dimension; D_out is output dimension.\n",
    "# N, D_in, H, D_out = 64, 1000, 100, 10\n",
    "\n",
    "# # Create random Tensors to hold inputs and outputs\n",
    "# x = torch.randn(N, D_in)\n",
    "# y = torch.randn(N, D_out)\n",
    "\n",
    "# # Construct our model by instantiating the class defined above\n",
    "# model = TwoLayerNet(D_in, H, D_out)\n",
    "\n",
    "# # Construct our loss function and an Optimizer. The call to model.parameters()\n",
    "# # in the SGD constructor will contain the learnable parameters of the two\n",
    "# # nn.Linear modules which are members of the model.\n",
    "# criterion = torch.nn.MSELoss(reduction='sum')\n",
    "# optimizer = torch.optim.SGD(model.parameters(), lr=1e-4)\n",
    "# for t in range(500):\n",
    "#     # Forward pass: Compute predicted y by passing x to the model\n",
    "#     y_pred = model(x)\n",
    "\n",
    "#     # Compute and print loss\n",
    "#     loss = criterion(y_pred, y)\n",
    "#     if t % 100 == 99:\n",
    "#         print(t, loss.item())\n",
    "\n",
    "#     # Zero gradients, perform a backward pass, and update the weights.\n",
    "#     optimizer.zero_grad()\n",
    "#     loss.backward()\n",
    "#     optimizer.step()"
   ]
  },
  {
   "cell_type": "markdown",
   "metadata": {},
   "source": [
    "$\\sigma_2(\\mathbf{W}_2\\sigma_1(\\mathbf{W}_1x+\\mathbf{b}_1)+\\mathbf{b}_2)$"
   ]
  },
  {
   "cell_type": "code",
   "execution_count": 6,
   "metadata": {},
   "outputs": [],
   "source": [
    "class TwoLayerNet(torch.nn.Module):\n",
    "    def __init__(self, D_in, H, D_out):\n",
    "        \"\"\"\n",
    "        In the constructor we instantiate two nn.Linear modules and assign them as\n",
    "        member variables.\n",
    "        \"\"\"\n",
    "        super(TwoLayerNet, self).__init__()\n",
    "        self.linear1 = torch.nn.Linear(D_in, H)\n",
    "        self.linear2 = torch.nn.Linear(H, D_out)\n",
    "\n",
    "    def forward(self, x):\n",
    "        \"\"\"\n",
    "        In the forward function we accept a Tensor of input data and we must return\n",
    "        a Tensor of output data. We can use Modules defined in the constructor as\n",
    "        well as arbitrary operators on Tensors.\n",
    "        \"\"\"\n",
    "        h_relu = self.linear1(x).clamp(min=0)\n",
    "        y_pred = self.linear2(h_relu)\n",
    "        return y_pred"
   ]
  },
  {
   "cell_type": "code",
   "execution_count": 7,
   "metadata": {},
   "outputs": [
    {
     "name": "stdout",
     "output_type": "stream",
     "text": [
      "Downloading http://yann.lecun.com/exdb/mnist/train-images-idx3-ubyte.gz to MNIST_data\\MNIST\\raw\\train-images-idx3-ubyte.gz\n"
     ]
    },
    {
     "name": "stderr",
     "output_type": "stream",
     "text": [
      "100.1%"
     ]
    },
    {
     "name": "stdout",
     "output_type": "stream",
     "text": [
      "Extracting MNIST_data\\MNIST\\raw\\train-images-idx3-ubyte.gz to MNIST_data\\MNIST\\raw\n",
      "Downloading http://yann.lecun.com/exdb/mnist/train-labels-idx1-ubyte.gz to MNIST_data\\MNIST\\raw\\train-labels-idx1-ubyte.gz\n"
     ]
    },
    {
     "name": "stderr",
     "output_type": "stream",
     "text": [
      "113.5%"
     ]
    },
    {
     "name": "stdout",
     "output_type": "stream",
     "text": [
      "Extracting MNIST_data\\MNIST\\raw\\train-labels-idx1-ubyte.gz to MNIST_data\\MNIST\\raw\n",
      "Downloading http://yann.lecun.com/exdb/mnist/t10k-images-idx3-ubyte.gz to MNIST_data\\MNIST\\raw\\t10k-images-idx3-ubyte.gz\n"
     ]
    },
    {
     "name": "stderr",
     "output_type": "stream",
     "text": [
      "100.4%"
     ]
    },
    {
     "name": "stdout",
     "output_type": "stream",
     "text": [
      "Extracting MNIST_data\\MNIST\\raw\\t10k-images-idx3-ubyte.gz to MNIST_data\\MNIST\\raw\n",
      "Downloading http://yann.lecun.com/exdb/mnist/t10k-labels-idx1-ubyte.gz to MNIST_data\\MNIST\\raw\\t10k-labels-idx1-ubyte.gz\n"
     ]
    },
    {
     "name": "stderr",
     "output_type": "stream",
     "text": [
      "180.4%"
     ]
    },
    {
     "name": "stdout",
     "output_type": "stream",
     "text": [
      "Extracting MNIST_data\\MNIST\\raw\\t10k-labels-idx1-ubyte.gz to MNIST_data\\MNIST\\raw\n",
      "Processing...\n",
      "Done!\n"
     ]
    }
   ],
   "source": [
    "MNIST_train = torchvision.datasets.MNIST('MNIST_data',download=True,train=True, transform=True)"
   ]
  },
  {
   "cell_type": "code",
   "execution_count": 9,
   "metadata": {},
   "outputs": [],
   "source": [
    "MNIST_train.data = MNIST_train.data.reshape([-1,28*28])/255.0"
   ]
  },
  {
   "cell_type": "code",
   "execution_count": 15,
   "metadata": {},
   "outputs": [
    {
     "data": {
      "text/plain": [
       "10"
      ]
     },
     "execution_count": 15,
     "metadata": {},
     "output_type": "execute_result"
    }
   ],
   "source": [
    "MNIST_train.data.shape[1]\n",
    "len(MNIST_train.classes)"
   ]
  },
  {
   "cell_type": "code",
   "execution_count": 10,
   "metadata": {},
   "outputs": [],
   "source": [
    "import numpy as np"
   ]
  },
  {
   "cell_type": "code",
   "execution_count": 11,
   "metadata": {
    "scrolled": true
   },
   "outputs": [
    {
     "name": "stdout",
     "output_type": "stream",
     "text": [
      "99 2.305154800415039\n",
      "199 2.2778875827789307\n",
      "299 2.3024742603302\n",
      "399 2.2883195877075195\n",
      "499 2.303999662399292\n",
      "599 2.311143398284912\n",
      "699 2.2826380729675293\n",
      "799 2.2987358570098877\n",
      "899 2.2765302658081055\n",
      "999 2.2977309226989746\n",
      "1099 2.298745632171631\n",
      "1199 2.273271083831787\n",
      "1299 2.27760910987854\n",
      "1399 2.2805275917053223\n",
      "1499 2.2843000888824463\n",
      "1599 2.2751379013061523\n",
      "1699 2.263592481613159\n",
      "1799 2.2795701026916504\n",
      "1899 2.2455921173095703\n",
      "1999 2.2574357986450195\n",
      "2099 2.2655835151672363\n",
      "2199 2.2750587463378906\n",
      "2299 2.2485191822052\n",
      "2399 2.269383430480957\n",
      "2499 2.2581536769866943\n",
      "2599 2.2678637504577637\n",
      "2699 2.2416141033172607\n",
      "2799 2.2400403022766113\n",
      "2899 2.24833345413208\n",
      "2999 2.2589073181152344\n",
      "3099 2.236104965209961\n",
      "3199 2.252394437789917\n",
      "3299 2.2352099418640137\n",
      "3399 2.25244140625\n",
      "3499 2.2514116764068604\n",
      "3599 2.248915672302246\n",
      "3699 2.2393453121185303\n",
      "3799 2.2196927070617676\n",
      "3899 2.231964111328125\n",
      "3999 2.2239112854003906\n",
      "4099 2.2231879234313965\n",
      "4199 2.2293972969055176\n",
      "4299 2.21140193939209\n",
      "4399 2.208468437194824\n",
      "4499 2.221942901611328\n",
      "4599 2.235727548599243\n",
      "4699 2.2161271572113037\n",
      "4799 2.2229888439178467\n",
      "4899 2.2195446491241455\n",
      "4999 2.209331512451172\n",
      "5099 2.2091763019561768\n",
      "5199 2.203409433364868\n",
      "5299 2.206049919128418\n",
      "5399 2.2044215202331543\n",
      "5499 2.204373836517334\n",
      "5599 2.2193264961242676\n",
      "5699 2.2172632217407227\n",
      "5799 2.2147114276885986\n",
      "5899 2.2169032096862793\n",
      "5999 2.1965205669403076\n",
      "6099 2.1978211402893066\n",
      "6199 2.194199562072754\n",
      "6299 2.176259756088257\n",
      "6399 2.180340051651001\n",
      "6499 2.1659772396087646\n",
      "6599 2.1880345344543457\n",
      "6699 2.1891894340515137\n",
      "6799 2.1834557056427\n",
      "6899 2.1460671424865723\n",
      "6999 2.16463565826416\n",
      "7099 2.171335458755493\n",
      "7199 2.162105083465576\n",
      "7299 2.159895181655884\n",
      "7399 2.1441617012023926\n",
      "7499 2.1592438220977783\n",
      "7599 2.1612675189971924\n",
      "7699 2.163440465927124\n",
      "7799 2.1735939979553223\n",
      "7899 2.159201145172119\n",
      "7999 2.1504359245300293\n",
      "8099 2.1363093852996826\n",
      "8199 2.161486864089966\n",
      "8299 2.142653226852417\n",
      "8399 2.1077115535736084\n",
      "8499 2.1650044918060303\n",
      "8599 2.1267967224121094\n",
      "8699 2.167253017425537\n",
      "8799 2.130657434463501\n",
      "8899 2.142366409301758\n",
      "8999 2.1085028648376465\n",
      "9099 2.135831117630005\n",
      "9199 2.0991151332855225\n",
      "9299 2.140119791030884\n",
      "9399 2.1347644329071045\n",
      "9499 2.114927291870117\n",
      "9599 2.1223068237304688\n",
      "9699 2.0998594760894775\n",
      "9799 2.0942881107330322\n",
      "9899 2.1249427795410156\n",
      "9999 2.1093554496765137\n"
     ]
    }
   ],
   "source": [
    "# # N is batch size; D_in is input dimension;\n",
    "# # H is hidden dimension; D_out is output dimension.\n",
    "\n",
    "N, D_in, H, D_out = 64, MNIST_train.data.shape[1], 100, len(MNIST_train.classes)\n",
    "\n",
    "# Construct our model by instantiating the class defined above\n",
    "model = TwoLayerNet(D_in, H, D_out)\n",
    "\n",
    "# Construct our loss function and an Optimizer. The call to model.parameters()\n",
    "# in the SGD constructor will contain the learnable parameters of the two\n",
    "# nn.Linear modules which are members of the model.\n",
    "criterion = torch.nn.CrossEntropyLoss(reduction='mean')\n",
    "optimizer = torch.optim.SGD(model.parameters(), lr=1e-4)\n",
    "\n",
    "for t in range(10000):\n",
    "    idx = np.random.randint(0, MNIST_train.data.shape[0], size = 64)\n",
    "    x = MNIST_train.data[idx,:]\n",
    "    # Forward pass: Compute predicted y by passing x to the model\n",
    "    y_pred = model(x)\n",
    "\n",
    "    # Compute and print loss\n",
    "    loss = criterion(y_pred, MNIST_train.targets[idx])\n",
    "    if t % 100 == 99:\n",
    "        print(t, loss.item())\n",
    "\n",
    "    # Zero gradients, perform a backward pass, and update the weights.\n",
    "    optimizer.zero_grad()\n",
    "    loss.backward()\n",
    "    optimizer.step()"
   ]
  },
  {
   "cell_type": "code",
   "execution_count": null,
   "metadata": {},
   "outputs": [],
   "source": [
    "Y_pred = model(MNIST_train.data)"
   ]
  },
  {
   "cell_type": "markdown",
   "metadata": {},
   "source": []
  },
  {
   "cell_type": "markdown",
   "metadata": {},
   "source": []
  },
  {
   "cell_type": "markdown",
   "metadata": {},
   "source": []
  }
 ],
 "metadata": {
  "kernelspec": {
   "display_name": "Python 3",
   "language": "python",
   "name": "python3"
  },
  "language_info": {
   "codemirror_mode": {
    "name": "ipython",
    "version": 3
   },
   "file_extension": ".py",
   "mimetype": "text/x-python",
   "name": "python",
   "nbconvert_exporter": "python",
   "pygments_lexer": "ipython3",
   "version": "3.6.10"
  }
 },
 "nbformat": 4,
 "nbformat_minor": 4
}
