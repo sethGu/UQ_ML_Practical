{
 "cells": [
  {
   "cell_type": "markdown",
   "metadata": {},
   "source": [
    "# Prac 3\n"
   ]
  },
  {
   "cell_type": "markdown",
   "metadata": {},
   "source": [
    "## Q1 Multivariate Parametric estimation\n",
    "糖尿病数据集，输入数据特征8维，二分类问题"
   ]
  },
  {
   "cell_type": "code",
   "execution_count": 2,
   "metadata": {},
   "outputs": [],
   "source": [
    "import pandas\n",
    "from scipy.stats import multivariate_normal"
   ]
  },
  {
   "cell_type": "code",
   "execution_count": 44,
   "metadata": {},
   "outputs": [],
   "source": [
    "pima_data = pandas.read_csv('pima_indians_diabetes.csv')\n",
    "pima_data_train = pima_data.loc[:499,:]\n",
    "pima_data_test = pima_data.loc[500:,:]"
   ]
  },
  {
   "cell_type": "code",
   "execution_count": 11,
   "metadata": {},
   "outputs": [],
   "source": [
    "pos_data = pima_data_train[pima_data_train['9']=='pos'] \n",
    "neg_data = pima_data_train[pima_data_train['9']=='neg']\n",
    "# 对postive和negative的数据分别计算平均和标准差\n",
    "mu1 = pos_data.mean()\n",
    "mu2 = neg_data.mean()\n",
    "S1 = pos_data.cov()\n",
    "S2 = neg_data.cov()"
   ]
  },
  {
   "cell_type": "code",
   "execution_count": 13,
   "metadata": {},
   "outputs": [],
   "source": [
    "# 根据平均和标准差，基于假设的高斯分布得到分布函数（似然），即norm1为阳性True，nrom2为阴性False\n",
    "norm1 = multivariate_normal(mu1, S1)\n",
    "norm2 = multivariate_normal(mu2,S2)\n",
    "\n",
    "# 根据postive和negative的数据进行先验的计算\n",
    "P1 = len(pos_data)/(len(pos_data)+len(neg_data))\n",
    "P2 = len(neg_data)/(len(pos_data)+len(neg_data))"
   ]
  },
  {
   "cell_type": "code",
   "execution_count": 38,
   "metadata": {},
   "outputs": [],
   "source": [
    "# 去掉第九列的label，得到八维的train input\n",
    "pima_data_train_X = pima_data_train.drop(['9'], axis=1)\n",
    "\n",
    "# 似然*先验，得到分子\n",
    "pdf1_x = norm1.pdf(pima_data_train_X)*P1\n",
    "pdf2_x = norm2.pdf(pima_data_train_X)*P2\n",
    "# 分子除分母，二分类问题中分母为似然1*先验1+似然2*先验2\n",
    "post1 = pdf1_x/(pdf1_x + pdf2_x)\n",
    "post2 = pdf2_x/(pdf1_x + pdf2_x)"
   ]
  },
  {
   "cell_type": "code",
   "execution_count": 51,
   "metadata": {
    "scrolled": true
   },
   "outputs": [
    {
     "data": {
      "text/plain": [
       "array([False, False, False, False, False, False,  True, False, False,\n",
       "       False, False, False, False, False, False, False,  True, False,\n",
       "        True,  True, False, False, False,  True, False, False, False,\n",
       "       False, False, False, False,  True, False,  True, False,  True,\n",
       "       False, False, False,  True, False, False, False, False, False,\n",
       "        True,  True, False, False,  True, False, False, False, False,\n",
       "       False, False, False, False, False, False, False,  True, False,\n",
       "       False, False, False, False, False, False, False, False, False,\n",
       "       False, False, False, False, False,  True,  True, False,  True,\n",
       "       False, False, False,  True, False,  True, False,  True, False,\n",
       "        True, False, False,  True, False,  True,  True, False,  True,\n",
       "       False, False,  True, False, False,  True, False,  True, False,\n",
       "       False, False, False,  True,  True, False,  True, False, False,\n",
       "       False,  True,  True, False,  True,  True, False, False, False,\n",
       "       False, False, False, False, False, False, False, False, False,\n",
       "        True, False, False, False, False, False, False, False,  True,\n",
       "       False,  True, False,  True,  True, False, False, False, False,\n",
       "       False, False,  True, False,  True,  True, False,  True,  True,\n",
       "        True,  True, False, False, False, False, False,  True, False,\n",
       "       False, False, False, False,  True,  True, False, False, False,\n",
       "       False,  True, False, False, False, False, False, False, False,\n",
       "       False, False,  True, False, False, False,  True, False,  True,\n",
       "       False,  True, False, False,  True,  True, False, False, False,\n",
       "       False,  True, False, False, False,  True, False, False,  True,\n",
       "        True, False, False, False, False, False, False, False, False,\n",
       "       False, False, False, False, False, False, False,  True, False,\n",
       "       False, False, False, False, False, False,  True, False, False,\n",
       "        True,  True,  True,  True,  True,  True, False,  True, False,\n",
       "       False,  True,  True, False, False,  True, False,  True, False,\n",
       "        True, False,  True, False, False, False, False])"
      ]
     },
     "execution_count": 51,
     "metadata": {},
     "output_type": "execute_result"
    }
   ],
   "source": [
    "pred = post1>post2\n",
    "pred"
   ]
  },
  {
   "cell_type": "code",
   "execution_count": 36,
   "metadata": {},
   "outputs": [
    {
     "name": "stderr",
     "output_type": "stream",
     "text": [
      "C:\\Users\\J.G\\Anaconda2\\envs\\py3k\\lib\\site-packages\\ipykernel_launcher.py:2: SettingWithCopyWarning: \n",
      "A value is trying to be set on a copy of a slice from a DataFrame\n",
      "\n",
      "See the caveats in the documentation: https://pandas.pydata.org/pandas-docs/stable/user_guide/indexing.html#returning-a-view-versus-a-copy\n",
      "  \n",
      "C:\\Users\\J.G\\Anaconda2\\envs\\py3k\\lib\\site-packages\\pandas\\core\\generic.py:8767: SettingWithCopyWarning: \n",
      "A value is trying to be set on a copy of a slice from a DataFrame\n",
      "\n",
      "See the caveats in the documentation: https://pandas.pydata.org/pandas-docs/stable/user_guide/indexing.html#returning-a-view-versus-a-copy\n",
      "  self._update_inplace(new_data)\n",
      "C:\\Users\\J.G\\Anaconda2\\envs\\py3k\\lib\\site-packages\\ipykernel_launcher.py:3: SettingWithCopyWarning: \n",
      "A value is trying to be set on a copy of a slice from a DataFrame\n",
      "\n",
      "See the caveats in the documentation: https://pandas.pydata.org/pandas-docs/stable/user_guide/indexing.html#returning-a-view-versus-a-copy\n",
      "  This is separate from the ipykernel package so we can avoid doing imports until\n"
     ]
    }
   ],
   "source": [
    "labels = pima_data_train['9']\n",
    "# 为了与上述True与False对比，将原数据的pos和neg转换成True和False\n",
    "labels[labels=='pos'] = True\n",
    "labels[labels=='neg'] = False"
   ]
  },
  {
   "cell_type": "markdown",
   "metadata": {},
   "source": [
    "Training error, prac乘100用百分比表示"
   ]
  },
  {
   "cell_type": "code",
   "execution_count": 22,
   "metadata": {},
   "outputs": [
    {
     "data": {
      "text/plain": [
       "75.4"
      ]
     },
     "execution_count": 22,
     "metadata": {},
     "output_type": "execute_result"
    }
   ],
   "source": [
    "# 比较正确预测的个数\n",
    "(sum((labels == pred))/len(pred))*100"
   ]
  },
  {
   "cell_type": "markdown",
   "metadata": {},
   "source": [
    "Test error"
   ]
  },
  {
   "cell_type": "code",
   "execution_count": 45,
   "metadata": {},
   "outputs": [],
   "source": [
    "pima_data_test_X = pima_data_test.drop(['9'], axis=1)\n",
    "pdf1_x = norm1.pdf(pima_data_test_X)*P1\n",
    "pdf2_x = norm2.pdf(pima_data_test_X)*P2\n",
    "post1 = pdf1_x/(pdf1_x + pdf2_x)\n",
    "post2 = pdf2_x/(pdf1_x + pdf2_x)\n",
    "\n",
    "pred = post1>post2"
   ]
  },
  {
   "cell_type": "code",
   "execution_count": 24,
   "metadata": {},
   "outputs": [
    {
     "name": "stderr",
     "output_type": "stream",
     "text": [
      "C:\\Users\\J.G\\Anaconda2\\envs\\py3k\\lib\\site-packages\\ipykernel_launcher.py:2: SettingWithCopyWarning: \n",
      "A value is trying to be set on a copy of a slice from a DataFrame\n",
      "\n",
      "See the caveats in the documentation: https://pandas.pydata.org/pandas-docs/stable/user_guide/indexing.html#returning-a-view-versus-a-copy\n",
      "  \n",
      "C:\\Users\\J.G\\Anaconda2\\envs\\py3k\\lib\\site-packages\\ipykernel_launcher.py:3: SettingWithCopyWarning: \n",
      "A value is trying to be set on a copy of a slice from a DataFrame\n",
      "\n",
      "See the caveats in the documentation: https://pandas.pydata.org/pandas-docs/stable/user_guide/indexing.html#returning-a-view-versus-a-copy\n",
      "  This is separate from the ipykernel package so we can avoid doing imports until\n"
     ]
    }
   ],
   "source": [
    "labels = pima_data_test['9']\n",
    "labels[labels=='pos'] = True\n",
    "labels[labels=='neg'] = False"
   ]
  },
  {
   "cell_type": "code",
   "execution_count": 25,
   "metadata": {},
   "outputs": [
    {
     "data": {
      "text/plain": [
       "77.98507462686567"
      ]
     },
     "execution_count": 25,
     "metadata": {},
     "output_type": "execute_result"
    }
   ],
   "source": [
    "(sum((labels == pred))/len(pred))*100"
   ]
  },
  {
   "cell_type": "markdown",
   "metadata": {},
   "source": [
    "# 上述是用的高斯判别，如下是二次判别QDA"
   ]
  },
  {
   "cell_type": "code",
   "execution_count": 26,
   "metadata": {},
   "outputs": [],
   "source": [
    "from sklearn.discriminant_analysis import QuadraticDiscriminantAnalysis"
   ]
  },
  {
   "cell_type": "code",
   "execution_count": 48,
   "metadata": {},
   "outputs": [
    {
     "data": {
      "text/plain": [
       "0      pos\n",
       "1      neg\n",
       "2      pos\n",
       "3      neg\n",
       "4      pos\n",
       "      ... \n",
       "495    neg\n",
       "496    neg\n",
       "497    neg\n",
       "498    pos\n",
       "499    neg\n",
       "Name: 9, Length: 500, dtype: object"
      ]
     },
     "execution_count": 48,
     "metadata": {},
     "output_type": "execute_result"
    }
   ],
   "source": [
    "pima_data_train = pima_data.loc[:499,:]\n",
    "pima_data_train_X = pima_data_train.drop(['9'], axis=1)\n",
    "labels = pima_data_train['9']\n",
    "labels"
   ]
  },
  {
   "cell_type": "code",
   "execution_count": 49,
   "metadata": {},
   "outputs": [
    {
     "name": "stdout",
     "output_type": "stream",
     "text": [
      "正确率： 0.78\n"
     ]
    }
   ],
   "source": [
    "labels_test = pima_data_test['9']\n",
    "qda = QuadraticDiscriminantAnalysis()\n",
    "qd = qda.fit(pima_data_train_X,labels).predict(pima_data_test_X)\n",
    "print('正确率：',str(round(qda.score(pima_data_test_X,labels_test),2)))"
   ]
  },
  {
   "cell_type": "markdown",
   "metadata": {},
   "source": [
    "# 再来个线性判别LDA"
   ]
  },
  {
   "cell_type": "code",
   "execution_count": 56,
   "metadata": {},
   "outputs": [
    {
     "name": "stdout",
     "output_type": "stream",
     "text": [
      "正确率： 0.81\n"
     ]
    }
   ],
   "source": [
    "from sklearn.discriminant_analysis import LinearDiscriminantAnalysis\n",
    "clf=LinearDiscriminantAnalysis()\n",
    "clf.fit(pima_data_train_X,labels).predict(pima_data_test_X)\n",
    "print('正确率：',str(round(clf.score(pima_data_test_X,labels_test),2)))"
   ]
  },
  {
   "cell_type": "markdown",
   "metadata": {},
   "source": [
    "## Q3 Nonparametric density estimation 比较\n",
    "\n",
    "### Histograms 和\n",
    "### Kernel density estimation"
   ]
  },
  {
   "cell_type": "code",
   "execution_count": 66,
   "metadata": {},
   "outputs": [
    {
     "data": {
      "text/plain": [
       "<matplotlib.axes._subplots.AxesSubplot at 0x1ccf8708390>"
      ]
     },
     "execution_count": 66,
     "metadata": {},
     "output_type": "execute_result"
    },
    {
     "data": {
      "image/png": "[encoded data removed]",
      "text/plain": [
       "<Figure size 432x288 with 1 Axes>"
      ]
     },
     "metadata": {
      "needs_background": "light"
     },
     "output_type": "display_data"
    }
   ],
   "source": [
    "import seaborn as sns \n",
    "iris_data = pandas.read_csv('iris.txt',header=None)\n",
    "iris_data = iris_data[3]\n",
    "# iris_data.hist(bins=10)\n",
    "# distplot()是hist加强版seaborn，kdeplot(shade=True)为密度曲线图\n",
    "sns.distplot(iris_data, bins=10)"
   ]
  },
  {
   "cell_type": "code",
   "execution_count": 58,
   "metadata": {},
   "outputs": [
    {
     "data": {
      "image/png": "[encoded data removed]",
      "text/plain": [
       "<Figure size 432x288 with 1 Axes>"
      ]
     },
     "metadata": {
      "needs_background": "light"
     },
     "output_type": "display_data"
    },
    {
     "data": {
      "image/png": "[encoded data removed]",
      "text/plain": [
       "<Figure size 432x288 with 1 Axes>"
      ]
     },
     "metadata": {
      "needs_background": "light"
     },
     "output_type": "display_data"
    },
    {
     "data": {
      "image/png": "[encoded data removed]",
      "text/plain": [
       "<Figure size 432x288 with 1 Axes>"
      ]
     },
     "metadata": {
      "needs_background": "light"
     },
     "output_type": "display_data"
    },
    {
     "data": {
      "image/png": "[encoded data removed]",
      "text/plain": [
       "<Figure size 432x288 with 1 Axes>"
      ]
     },
     "metadata": {
      "needs_background": "light"
     },
     "output_type": "display_data"
    },
    {
     "data": {
      "image/png": "[encoded data removed]",
      "text/plain": [
       "<Figure size 432x288 with 1 Axes>"
      ]
     },
     "metadata": {
      "needs_background": "light"
     },
     "output_type": "display_data"
    },
    {
     "data": {
      "image/png": "[encoded data removed]",
      "text/plain": [
       "<Figure size 432x288 with 1 Axes>"
      ]
     },
     "metadata": {
      "needs_background": "light"
     },
     "output_type": "display_data"
    },
    {
     "data": {
      "image/png": "[encoded data removed]",
      "text/plain": [
       "<Figure size 432x288 with 1 Axes>"
      ]
     },
     "metadata": {
      "needs_background": "light"
     },
     "output_type": "display_data"
    }
   ],
   "source": [
    "hist_bins = [2,4,8,10,50,100,150]\n",
    "import matplotlib.pyplot as plt\n",
    "for b in hist_bins:\n",
    "    iris_data.hist(bins=b)\n",
    "    plt.show()"
   ]
  },
  {
   "cell_type": "code",
   "execution_count": 60,
   "metadata": {},
   "outputs": [
    {
     "data": {
      "text/plain": [
       "(150,)"
      ]
     },
     "execution_count": 60,
     "metadata": {},
     "output_type": "execute_result"
    }
   ],
   "source": [
    "from scipy import stats\n",
    "from sklearn.neighbors import KernelDensity\n",
    "iris_data.shape"
   ]
  },
  {
   "cell_type": "markdown",
   "metadata": {},
   "source": [
    "## Q4 比较Kde中的bandwidth"
   ]
  },
  {
   "cell_type": "code",
   "execution_count": 64,
   "metadata": {},
   "outputs": [
    {
     "data": {
      "text/plain": [
       "[<matplotlib.lines.Line2D at 0x1ccfd163320>]"
      ]
     },
     "execution_count": 64,
     "metadata": {},
     "output_type": "execute_result"
    },
    {
     "data": {
      "image/png": "[encoded data removed]",
      "text/plain": [
       "<Figure size 432x288 with 1 Axes>"
      ]
     },
     "metadata": {
      "needs_background": "light"
     },
     "output_type": "display_data"
    }
   ],
   "source": [
    "import numpy as np\n",
    "x = np.linspace(-1,3,100)\n",
    "# 非参数估计KDE使用iris_data生成stats.gaussian_kde(iris_data)函数\n",
    "plt.plot(x,stats.gaussian_kde(iris_data)(x))"
   ]
  },
  {
   "cell_type": "code",
   "execution_count": 62,
   "metadata": {},
   "outputs": [
    {
     "data": {
      "text/plain": [
       "[<matplotlib.lines.Line2D at 0x1ccfd087e48>]"
      ]
     },
     "execution_count": 62,
     "metadata": {},
     "output_type": "execute_result"
    },
    {
     "data": {
      "image/png": "[encoded data removed]",
      "text/plain": [
       "<Figure size 432x288 with 1 Axes>"
      ]
     },
     "metadata": {
      "needs_background": "light"
     },
     "output_type": "display_data"
    }
   ],
   "source": [
    "stats.gaussian_kde(iris_data)\n",
    "# KernelDensity(*, bandwidth=1.0, algorithm='auto', kernel='gaussian', metric='euclidean')为默认参数，并且，先fit\n",
    "kde = KernelDensity(kernel='gaussian', bandwidth=0.5).fit(np.array(iris_data).reshape((-1,1)))\n",
    "# sklearn.neighbors.KernelDensity.score_samples的作用是估计数据密度取对数 Evaluate the log density model on the data.\n",
    "plt.plot(x,kde.score_samples(x.reshape(-1,1)))"
   ]
  },
  {
   "cell_type": "code",
   "execution_count": 71,
   "metadata": {},
   "outputs": [],
   "source": [
    "# scipy.stats.gaussian_kde(dataset, bw_method=None, weights=None)\n",
    "kde = stats.gaussian_kde(iris_data, bw_method=0.5)\n",
    "kde2 = KernelDensity(kernel='gaussian', \\\n",
    "                     bandwidth=0.5).fit(np.array(iris_data).reshape(-1,1))"
   ]
  },
  {
   "cell_type": "code",
   "execution_count": 72,
   "metadata": {},
   "outputs": [
    {
     "data": {
      "text/plain": [
       "[<matplotlib.lines.Line2D at 0x1ccfcd3e0f0>]"
      ]
     },
     "execution_count": 72,
     "metadata": {},
     "output_type": "execute_result"
    },
    {
     "data": {
      "image/png": "[encoded data removed]",
      "text/plain": [
       "<Figure size 432x288 with 1 Axes>"
      ]
     },
     "metadata": {
      "needs_background": "light"
     },
     "output_type": "display_data"
    }
   ],
   "source": [
    "x = np.linspace(0,2.5,1000)\n",
    "\n",
    "sns.distplot(iris_data,bins=10,kde_kws = {'bw':0.9})\n",
    "plt.plot(x, kde(x), c='g')\n",
    "plt.plot(x, np.exp(kde2.score_samples(x.reshape(-1,1))),c='r')\n"
   ]
  },
  {
   "cell_type": "markdown",
   "metadata": {},
   "source": [
    "## Q5 比较概率分布的测试算法Kullback-Leibler (KL)散度\n",
    " 把M is the distribution given by the mixture of 2 Gaussians分别和：  \n",
    "· histogram model (H1) for this data with 20 bins  \n",
    "· kernel density estimators K1 with the default kernel width value  \n",
    "· kernel density estimators K2 with a width value equal to half the default value  \n",
    "进行比较  \n",
    "### KL散度定义为\n",
    "$D_{KL}(p||q) = Σ_i p(x_i) log \\frac{p(x_i)}{q(x_i)}$"
   ]
  },
  {
   "cell_type": "code",
   "execution_count": 88,
   "metadata": {},
   "outputs": [],
   "source": [
    "x1 = np.random.randn(30,1)\n",
    "x2 = 5+np.random.randn(30,1)\n",
    "\n",
    "x = np.vstack((x1,x2))"
   ]
  },
  {
   "cell_type": "code",
   "execution_count": 89,
   "metadata": {},
   "outputs": [],
   "source": [
    "import scipy.stats\n",
    "hist = np.histogram(x, bins=20)\n",
    "# 生成H1的模型\n",
    "hist_dist = scipy.stats.rv_histogram(hist)"
   ]
  },
  {
   "cell_type": "code",
   "execution_count": 76,
   "metadata": {},
   "outputs": [],
   "source": [
    "class NormalPdf:\n",
    "    def __init__(self,mu, std):\n",
    "        self.mu = mu\n",
    "        self.std = std\n",
    "        \n",
    "    def __call__(self,x):\n",
    "        diff = (x - self.mu)*(x-self.mu)\n",
    "        return 1/(np.sqrt(2*np.pi)*self.std) \\\n",
    "                * np.exp(-(diff/(2*self.std*self.std)))\n",
    "\n",
    "class MixtureOfGaussians:\n",
    "    def __init__(self, gaussians, priors = None):\n",
    "        self._gaussians = gaussians\n",
    "        self._priors = priors if priors is not None\\\n",
    "                        else [1/len(gaussians)]*len(gaussians)\n",
    "    \n",
    "    def __call__(self, x):\n",
    "        return sum([self._priors[i]*self._gaussians[i](x)\\\n",
    "                    for i in range(len(self._gaussians))])"
   ]
  },
  {
   "cell_type": "code",
   "execution_count": 90,
   "metadata": {},
   "outputs": [],
   "source": [
    "gaussians = [NormalPdf(0,1), NormalPdf(5,1)]\n",
    "############ 生成高斯混合模型M，这里的MixtureOfGaussians支持多个高斯分布\n",
    "MM = MixtureOfGaussians(gaussians)\n",
    "\n",
    "x_in = np.linspace(min(x), max(x),100)"
   ]
  },
  {
   "cell_type": "code",
   "execution_count": 91,
   "metadata": {},
   "outputs": [],
   "source": [
    "def kl_divergence(p,q,x):\n",
    "    return np.sum(p(x)*np.log(p(x)/np.maximum(q(x),1e-15)))"
   ]
  },
  {
   "cell_type": "code",
   "execution_count": 92,
   "metadata": {},
   "outputs": [
    {
     "name": "stdout",
     "output_type": "stream",
     "text": [
      "hist divergence:  14.356131396242297\n",
      "kde divergence:  1.5005545703156888\n",
      "kde2 divergence:  0.42924437228137224\n"
     ]
    }
   ],
   "source": [
    "# 定义两个bandwidth为默认值和其二分之一的kde模型K1,K2\n",
    "kde = stats.gaussian_kde(x.reshape(-1))\n",
    "kde2 = stats.gaussian_kde(x.reshape(-1),bw_method=kde.factor/2)\n",
    "\n",
    "print(\"hist divergence: \",kl_divergence(MM, hist_dist.pdf, x_in))\n",
    "print(\"kde divergence: \",kl_divergence(MM, kde, x_in.reshape(-1)))\n",
    "print(\"kde2 divergence: \",kl_divergence(MM, kde2, x_in.reshape(-1)))"
   ]
  },
  {
   "cell_type": "code",
   "execution_count": 93,
   "metadata": {},
   "outputs": [
    {
     "data": {
      "text/plain": [
       "<matplotlib.legend.Legend at 0x1ccfce78d30>"
      ]
     },
     "execution_count": 93,
     "metadata": {},
     "output_type": "execute_result"
    },
    {
     "data": {
      "image/png": "[encoded data removed]",
      "text/plain": [
       "<Figure size 432x288 with 1 Axes>"
      ]
     },
     "metadata": {
      "needs_background": "light"
     },
     "output_type": "display_data"
    }
   ],
   "source": [
    "plt.plot(x_in, MM(x_in), label=\"MM\")\n",
    "plt.plot(x_in, hist_dist.pdf(x_in),label=\"H1\")\n",
    "plt.plot(x_in, kde(x_in.reshape(-1)),label=\"KDE\")\n",
    "plt.plot(x_in, kde2(x_in.reshape(-1)),label=\"KDE2\")\n",
    "plt.legend()"
   ]
  },
  {
   "cell_type": "markdown",
   "metadata": {},
   "source": [
    "KL散度（Kullback–Leibler divergence）又称KL距离，相对熵。当P(x)和Q(x)的相似度越高，KL散度越小。  \n",
    "L散度主要有两个性质：\n",
    "  \n",
    "（1）不对称性\n",
    "  \n",
    "尽管KL散度从直观上是个度量或距离函数，但它并不是一个真正的度量或者距离，因为它不具有对称性，即D(P||Q)!=D(Q||P)。\n",
    "  \n",
    "（2）非负性\n",
    "  \n",
    "相对熵的值是非负值，即D(P||Q)>0。"
   ]
  }
 ],
 "metadata": {
  "kernelspec": {
   "display_name": "Python 3",
   "language": "python",
   "name": "python3"
  },
  "language_info": {
   "codemirror_mode": {
    "name": "ipython",
    "version": 3
   },
   "file_extension": ".py",
   "mimetype": "text/x-python",
   "name": "python",
   "nbconvert_exporter": "python",
   "pygments_lexer": "ipython3",
   "version": "3.6.10"
  }
 },
 "nbformat": 4,
 "nbformat_minor": 4
}
