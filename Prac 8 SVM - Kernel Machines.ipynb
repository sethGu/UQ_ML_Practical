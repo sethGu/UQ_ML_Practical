{
 "cells": [
  {
   "cell_type": "markdown",
   "metadata": {},
   "source": [
    "# Prac 8"
   ]
  },
  {
   "cell_type": "markdown",
   "metadata": {},
   "source": [
    "## Q1  使用SVM玩一玩，记录train和test的accuracy\n",
    "Using the default settings, train an SVM on the Diabetes (from Prac 4), Sonar and Ionosphere datasets (available on the course web page, details below and available from the UCI machine learning repository).  Use the default training/test set percentage split in Weka.  Record your results (classification rate and confusion matrix)."
   ]
  },
  {
   "cell_type": "code",
   "execution_count": 1,
   "metadata": {},
   "outputs": [],
   "source": [
    "from sklearn import svm\n",
    "import numpy as np\n",
    "import matplotlib.pyplot as plt\n",
    "import pandas as pd\n",
    "from sklearn.model_selection import train_test_split, cross_val_score\n",
    "from sklearn import preprocessing\n",
    "from sklearn.metrics import confusion_matrix"
   ]
  },
  {
   "cell_type": "code",
   "execution_count": 2,
   "metadata": {},
   "outputs": [],
   "source": [
    "diabetes = pd.read_csv('pima_indians_diabetes.csv')\n",
    "sonar = pd.read_csv('sonar.csv')\n",
    "ionosphere = pd.read_csv('ionosphere.csv')"
   ]
  },
  {
   "cell_type": "code",
   "execution_count": 8,
   "metadata": {},
   "outputs": [
    {
     "data": {
      "text/plain": [
       "array(['R', 'M'], dtype=object)"
      ]
     },
     "execution_count": 8,
     "metadata": {},
     "output_type": "execute_result"
    }
   ],
   "source": [
    "sonar.iloc[:,-1].unique()"
   ]
  },
  {
   "cell_type": "code",
   "execution_count": 14,
   "metadata": {},
   "outputs": [
    {
     "data": {
      "text/plain": [
       "array(['pos', 'neg'], dtype=object)"
      ]
     },
     "execution_count": 14,
     "metadata": {},
     "output_type": "execute_result"
    }
   ],
   "source": [
    "diabetes.iloc[:,-1].unique()"
   ]
  },
  {
   "cell_type": "code",
   "execution_count": 6,
   "metadata": {},
   "outputs": [],
   "source": [
    "def split_XY(data):\n",
    "    return data.iloc[:,:-1], data.iloc[:,-1]\n",
    "\n",
    "def scale_and_split(data):\n",
    "    data.iloc[:,:-1] = preprocessing.scale(data.iloc[:,:-1])\n",
    "    data_train, data_test = train_test_split(data, test_size=0.33, random_state=20)\n",
    "    return split_XY(data_train), split_XY(data_test)\n",
    "\n",
    "def train_test_split_acc(model, train_Y, train_X, test_X, test_Y):\n",
    "    return model.score(train_X, train_Y), model.score(test_X, test_Y)\n",
    "\n",
    "def svm_classification(data, C = 1.0, kernel = 'rbf', degree=3):\n",
    "    (train_X, train_Y), (test_X, test_Y) = scale_and_split(data)\n",
    "    # sklearn.svm.SVC(C=1.0, kernel='rbf', degree=3, gamma=0.0, coef0=0.0, shrinking=True, probability=False, tol=0.001, cache_size=200, class_weight=None, verbose=False, max_iter=-1, random_state=None)\n",
    "    model = svm.SVC(C=C, kernel=kernel, degree=degree)\n",
    "    model.fit(train_X, train_Y)\n",
    "    train_acc, test_acc = train_test_split_acc(model, train_Y, train_X, test_X, test_Y)\n",
    "    # cross_val_score(estimator, X, y=None, *, groups=None, scoring=None, cv=None, n_jobs=None, verbose=0, fit_params=None, pre_dispatch='2*n_jobs', error_score=nan)\n",
    "    # cv int，交叉验证生成器或可迭代的默认值=无；无，要使用默认的5倍交叉验证，int，以指定的折叠次数(Stratified)KFold\n",
    "    cross_val = cross_val_score(model, *split_XY(data), cv=10)\n",
    "    # 参数详情：confusion_matrix(y_true, y_pred, *, labels=None, sample_weight=None, normalize=None)\n",
    "    test_conf_matrix = confusion_matrix(test_Y,model.predict(test_X),labels=test_Y.unique())\n",
    "    return train_acc, test_acc, cross_val.mean(), test_conf_matrix"
   ]
  },
  {
   "cell_type": "code",
   "execution_count": 9,
   "metadata": {},
   "outputs": [
    {
     "data": {
      "text/plain": [
       "array(['g', 'b'], dtype=object)"
      ]
     },
     "execution_count": 9,
     "metadata": {},
     "output_type": "execute_result"
    }
   ],
   "source": [
    "sonar.iloc[:,-1].unique()\n",
    "ionosphere.iloc[:,-1].unique()"
   ]
  },
  {
   "cell_type": "code",
   "execution_count": 10,
   "metadata": {},
   "outputs": [
    {
     "data": {
      "text/plain": [
       "(0.8365758754863813,\n",
       " 0.7637795275590551,\n",
       " 0.7603896103896104,\n",
       " array([[ 46,  37],\n",
       "        [ 23, 148]], dtype=int64))"
      ]
     },
     "execution_count": 10,
     "metadata": {},
     "output_type": "execute_result"
    }
   ],
   "source": [
    "svm_classification(diabetes)"
   ]
  },
  {
   "cell_type": "code",
   "execution_count": 12,
   "metadata": {},
   "outputs": [
    {
     "data": {
      "text/plain": [
       "(0.9712230215827338,\n",
       " 0.8115942028985508,\n",
       " 0.6830952380952381,\n",
       " array([[36,  5],\n",
       "        [ 8, 20]], dtype=int64))"
      ]
     },
     "execution_count": 12,
     "metadata": {},
     "output_type": "execute_result"
    }
   ],
   "source": [
    "svm_classification(sonar)"
   ]
  },
  {
   "cell_type": "code",
   "execution_count": 13,
   "metadata": {},
   "outputs": [
    {
     "data": {
      "text/plain": [
       "(0.9617021276595744,\n",
       " 0.9310344827586207,\n",
       " 0.9400793650793652,\n",
       " array([[34,  8],\n",
       "        [ 0, 74]], dtype=int64))"
      ]
     },
     "execution_count": 13,
     "metadata": {},
     "output_type": "execute_result"
    }
   ],
   "source": [
    "svm_classification(ionosphere)"
   ]
  },
  {
   "cell_type": "markdown",
   "metadata": {},
   "source": [
    "## Q2 尝试不同核函数\n",
    "Select one of the datasets from Q1 (your choice!).  Using this dataset, experiment with the SVM kernel function by trying at least 3 different parameter value settings for both polynomial and RBF kernels (in addition to your answer to Q1).  Record your results as in Q1.  \n",
    "  \n",
    "sklearn.svm.SVC()方法中：  \n",
    "kernel：字符串，可选（默认='rbf'）It must be one of ‘linear’, ‘poly’, ‘rbf’, ‘sigmoid’, ‘precomputed’ or a callable.  \n",
    "degree：int，可选（默认= 3）Degree of the polynomial kernel function (‘poly’). Ignored by all other kernels."
   ]
  },
  {
   "cell_type": "code",
   "execution_count": 17,
   "metadata": {},
   "outputs": [
    {
     "data": {
      "text/plain": [
       "(0.7762645914396887,\n",
       " 0.7598425196850394,\n",
       " 0.7721633629528367,\n",
       " array([[ 44,  39],\n",
       "        [ 22, 149]], dtype=int64))"
      ]
     },
     "execution_count": 17,
     "metadata": {},
     "output_type": "execute_result"
    }
   ],
   "source": [
    "svm_classification(diabetes, kernel='linear')"
   ]
  },
  {
   "cell_type": "code",
   "execution_count": 18,
   "metadata": {},
   "outputs": [
    {
     "data": {
      "text/plain": [
       "(0.7140077821011673,\n",
       " 0.7086614173228346,\n",
       " 0.6926349965823649,\n",
       " array([[ 28,  55],\n",
       "        [ 19, 152]], dtype=int64))"
      ]
     },
     "execution_count": 18,
     "metadata": {},
     "output_type": "execute_result"
    }
   ],
   "source": [
    "svm_classification(diabetes, kernel='poly',degree=2)"
   ]
  },
  {
   "cell_type": "markdown",
   "metadata": {},
   "source": [
    "## Q3,Q4 C -- 正则化/惩罚因子\n",
    "10-fold cross validation即为上面cross_val_score功能cv=10"
   ]
  },
  {
   "cell_type": "code",
   "execution_count": 16,
   "metadata": {},
   "outputs": [
    {
     "data": {
      "image/png": "[encoded data removed]",
      "text/plain": [
       "<Figure size 432x288 with 1 Axes>"
      ]
     },
     "metadata": {
      "needs_background": "light"
     },
     "output_type": "display_data"
    },
    {
     "data": {
      "image/png": "[encoded data removed]",
      "text/plain": [
       "<Figure size 432x288 with 1 Axes>"
      ]
     },
     "metadata": {
      "needs_background": "light"
     },
     "output_type": "display_data"
    },
    {
     "data": {
      "image/png": "[encoded data removed]",
      "text/plain": [
       "<Figure size 432x288 with 1 Axes>"
      ]
     },
     "metadata": {
      "needs_background": "light"
     },
     "output_type": "display_data"
    }
   ],
   "source": [
    "#plot for a range of C values\n",
    "C = [0.01,0.1,1,100]\n",
    "datasets = [diabetes, sonar, ionosphere]\n",
    "\n",
    "\n",
    "for data in datasets:\n",
    "    plt.figure()\n",
    "    split_acc = []\n",
    "    cv_acc = []\n",
    "    for c in C:\n",
    "        _, test_acc, cross_val, _ = svm_classification(data, C = c, kernel='poly', degree=5)\n",
    "        split_acc.append(test_acc)\n",
    "        cv_acc.append(cross_val)\n",
    "    plt.plot(C,split_acc,'r*-', label = 'test split')\n",
    "    plt.plot(C,cv_acc,'g*-', label = 'cross validation')\n",
    "    plt.xscale('log')\n",
    "    plt.legend()\n",
    "    plt.xlabel('C')\n",
    "    plt.ylabel('Accuracy')"
   ]
  },
  {
   "cell_type": "markdown",
   "metadata": {},
   "source": []
  },
  {
   "cell_type": "markdown",
   "metadata": {},
   "source": []
  },
  {
   "cell_type": "markdown",
   "metadata": {},
   "source": []
  }
 ],
 "metadata": {
  "kernelspec": {
   "display_name": "Python 3",
   "language": "python",
   "name": "python3"
  },
  "language_info": {
   "codemirror_mode": {
    "name": "ipython",
    "version": 3
   },
   "file_extension": ".py",
   "mimetype": "text/x-python",
   "name": "python",
   "nbconvert_exporter": "python",
   "pygments_lexer": "ipython3",
   "version": "3.7.7"
  }
 },
 "nbformat": 4,
 "nbformat_minor": 4
}
